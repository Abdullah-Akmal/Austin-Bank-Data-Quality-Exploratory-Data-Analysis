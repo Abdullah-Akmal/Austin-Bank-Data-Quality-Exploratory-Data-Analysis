{
 "cells": [
  {
   "cell_type": "markdown",
   "metadata": {},
   "source": [
    "#  **Section 2: Data Quality Issues and Data Analysis**\n",
    "# This script addresses two main parts:\n",
    "#  **1. Data Quality Issues:**  \n",
    "#    - Load and inspect the dataset.  \n",
    "#    - Identify and address common data quality issues such as missing values, duplicates, \n",
    "#    - inconsistent date formats, negative values, and misclassified service categories.\n",
    "#  **2. Data Analysis and Commentary:**  \n",
    "#    - Create tables to analyze monthly trends, city benchmarks, and service category performance.\n",
    "#    - Provide summary statistics for exploratory data analysis."
   ]
  },
  {
   "cell_type": "markdown",
   "metadata": {},
   "source": [
    "## **Importing Necessary Libraries**"
   ]
  },
  {
   "cell_type": "code",
   "execution_count": 1,
   "metadata": {},
   "outputs": [],
   "source": [
    "import pandas as pd  # For data manipulation and analysis\n",
    "import numpy as np  # For numerical operations"
   ]
  },
  {
   "cell_type": "markdown",
   "metadata": {},
   "source": [
    "\n",
    "\n",
    "## **Loading Data from an Excel File**"
   ]
  },
  {
   "cell_type": "code",
   "execution_count": 2,
   "metadata": {},
   "outputs": [],
   "source": [
    "# Load the dataset from the Excel file\n",
    "file_path = \"C:/Users/Ak/Desktop/Assignment Projects/Austin/SS Austen Bank dataset (1).xlsx\"\n",
    "df = pd.read_excel(file_path)"
   ]
  },
  {
   "cell_type": "markdown",
   "metadata": {},
   "source": [
    "# **Section 2(a): Data Quality Issues and remedies**"
   ]
  },
  {
   "cell_type": "code",
   "execution_count": 3,
   "metadata": {},
   "outputs": [
    {
     "name": "stdout",
     "output_type": "stream",
     "text": [
      "Initial Data Overview:\n"
     ]
    },
    {
     "data": {
      "application/vnd.microsoft.datawrangler.viewer.v0+json": {
       "columns": [
        {
         "name": "index",
         "rawType": "int64",
         "type": "integer"
        },
        {
         "name": "City bank branch",
         "rawType": "object",
         "type": "string"
        },
        {
         "name": "Year",
         "rawType": "int64",
         "type": "integer"
        },
        {
         "name": "Month",
         "rawType": "int64",
         "type": "integer"
        },
        {
         "name": "Service category",
         "rawType": "object",
         "type": "string"
        },
        {
         "name": "Customer Volume",
         "rawType": "float64",
         "type": "float"
        },
        {
         "name": "Deposit Value (£000)",
         "rawType": "float64",
         "type": "float"
        }
       ],
       "conversionMethod": "pd.DataFrame",
       "ref": "9df26b84-79e1-4c0b-9a9a-2bba1e8c39a7",
       "rows": [
        [
         "0",
         "Oxford",
         "2022",
         "1",
         "Current accounts",
         "148.0",
         "649.0"
        ],
        [
         "1",
         "Oxford",
         "2023",
         "7",
         "Bonds savings accounts",
         "205.85599999999982",
         "550.6399999999995"
        ],
        [
         "2",
         "Oxford",
         "2022",
         "9",
         "Bonds savings accounts",
         "134.0",
         "354.0"
        ],
        [
         "3",
         "Edinburgh",
         "2023",
         "9",
         "Children’s savings accounts",
         "27.5",
         "161.0"
        ],
        [
         "4",
         "Edinburgh",
         "2021",
         "5",
         "Children’s savings accounts",
         "44.0",
         "244.0"
        ]
       ],
       "shape": {
        "columns": 6,
        "rows": 5
       }
      },
      "text/html": [
       "<div>\n",
       "<style scoped>\n",
       "    .dataframe tbody tr th:only-of-type {\n",
       "        vertical-align: middle;\n",
       "    }\n",
       "\n",
       "    .dataframe tbody tr th {\n",
       "        vertical-align: top;\n",
       "    }\n",
       "\n",
       "    .dataframe thead th {\n",
       "        text-align: right;\n",
       "    }\n",
       "</style>\n",
       "<table border=\"1\" class=\"dataframe\">\n",
       "  <thead>\n",
       "    <tr style=\"text-align: right;\">\n",
       "      <th></th>\n",
       "      <th>City bank branch</th>\n",
       "      <th>Year</th>\n",
       "      <th>Month</th>\n",
       "      <th>Service category</th>\n",
       "      <th>Customer Volume</th>\n",
       "      <th>Deposit Value (£000)</th>\n",
       "    </tr>\n",
       "  </thead>\n",
       "  <tbody>\n",
       "    <tr>\n",
       "      <th>0</th>\n",
       "      <td>Oxford</td>\n",
       "      <td>2022</td>\n",
       "      <td>1</td>\n",
       "      <td>Current accounts</td>\n",
       "      <td>148.000</td>\n",
       "      <td>649.00</td>\n",
       "    </tr>\n",
       "    <tr>\n",
       "      <th>1</th>\n",
       "      <td>Oxford</td>\n",
       "      <td>2023</td>\n",
       "      <td>7</td>\n",
       "      <td>Bonds savings accounts</td>\n",
       "      <td>205.856</td>\n",
       "      <td>550.64</td>\n",
       "    </tr>\n",
       "    <tr>\n",
       "      <th>2</th>\n",
       "      <td>Oxford</td>\n",
       "      <td>2022</td>\n",
       "      <td>9</td>\n",
       "      <td>Bonds savings accounts</td>\n",
       "      <td>134.000</td>\n",
       "      <td>354.00</td>\n",
       "    </tr>\n",
       "    <tr>\n",
       "      <th>3</th>\n",
       "      <td>Edinburgh</td>\n",
       "      <td>2023</td>\n",
       "      <td>9</td>\n",
       "      <td>Children’s savings accounts</td>\n",
       "      <td>27.500</td>\n",
       "      <td>161.00</td>\n",
       "    </tr>\n",
       "    <tr>\n",
       "      <th>4</th>\n",
       "      <td>Edinburgh</td>\n",
       "      <td>2021</td>\n",
       "      <td>5</td>\n",
       "      <td>Children’s savings accounts</td>\n",
       "      <td>44.000</td>\n",
       "      <td>244.00</td>\n",
       "    </tr>\n",
       "  </tbody>\n",
       "</table>\n",
       "</div>"
      ],
      "text/plain": [
       "  City bank branch  Year  Month             Service category  Customer Volume  \\\n",
       "0           Oxford  2022      1             Current accounts          148.000   \n",
       "1           Oxford  2023      7       Bonds savings accounts          205.856   \n",
       "2           Oxford  2022      9       Bonds savings accounts          134.000   \n",
       "3        Edinburgh  2023      9  Children’s savings accounts           27.500   \n",
       "4        Edinburgh  2021      5  Children’s savings accounts           44.000   \n",
       "\n",
       "   Deposit Value (£000)  \n",
       "0                649.00  \n",
       "1                550.64  \n",
       "2                354.00  \n",
       "3                161.00  \n",
       "4                244.00  "
      ]
     },
     "metadata": {},
     "output_type": "display_data"
    }
   ],
   "source": [
    "# Display the initial few rows to inspect the dataset\n",
    "print(\"Initial Data Overview:\")\n",
    "display(df.head())"
   ]
  },
  {
   "cell_type": "markdown",
   "metadata": {},
   "source": [
    "# **Checking Datatypes of Dataframe**"
   ]
  },
  {
   "cell_type": "code",
   "execution_count": 4,
   "metadata": {},
   "outputs": [
    {
     "name": "stdout",
     "output_type": "stream",
     "text": [
      "\n",
      "Data Types:\n",
      "City bank branch         object\n",
      "Year                      int64\n",
      "Month                     int64\n",
      "Service category         object\n",
      "Customer Volume         float64\n",
      "Deposit Value (£000)    float64\n",
      "dtype: object\n"
     ]
    }
   ],
   "source": [
    "# Print data types of each column to check for any inconsistencies\n",
    "print(\"\\nData Types:\")\n",
    "print(df.dtypes)"
   ]
  },
  {
   "cell_type": "markdown",
   "metadata": {},
   "source": [
    "# **Checking the Values Count of Year Column**"
   ]
  },
  {
   "cell_type": "code",
   "execution_count": 5,
   "metadata": {},
   "outputs": [
    {
     "data": {
      "text/plain": [
       "Year\n",
       "2022    216\n",
       "2021    216\n",
       "2023    210\n",
       "2073      6\n",
       "Name: count, dtype: int64"
      ]
     },
     "execution_count": 5,
     "metadata": {},
     "output_type": "execute_result"
    }
   ],
   "source": [
    "df['Year'].value_counts()"
   ]
  },
  {
   "cell_type": "markdown",
   "metadata": {},
   "source": [
    "# **Through Mapping Converting 2073 to 2023 in Year Column, Standardizing the Data Inconsistency**"
   ]
  },
  {
   "cell_type": "code",
   "execution_count": 6,
   "metadata": {},
   "outputs": [
    {
     "name": "stdout",
     "output_type": "stream",
     "text": [
      "Year\n",
      "2022    216\n",
      "2023    216\n",
      "2021    216\n",
      "Name: count, dtype: int64\n"
     ]
    }
   ],
   "source": [
    "year_mapping = {2073 : 2023 } # Replace incorrect year\n",
    "# Apply the mapping to fix the issue\n",
    "df['Year'] = df['Year'].replace(year_mapping)\n",
    "# Display cleaned DataFrame\n",
    "print(df['Year'].value_counts())"
   ]
  },
  {
   "cell_type": "markdown",
   "metadata": {},
   "source": [
    "# **Standardizing the Year, Month Column**\n",
    "# Convert the 'Year','Month' into Date column in datetime format to ensure consistency.\n",
    "# This will help in aggregating data by year, month, and quarter later on."
   ]
  },
  {
   "cell_type": "code",
   "execution_count": 7,
   "metadata": {},
   "outputs": [],
   "source": [
    "# Create a 'Date' column using 'Year' and 'Month' columns\n",
    "df['Date'] = pd.to_datetime(df[['Year', 'Month']].assign(Day=1))"
   ]
  },
  {
   "cell_type": "markdown",
   "metadata": {},
   "source": [
    "# **Identifying Missing Values**"
   ]
  },
  {
   "cell_type": "code",
   "execution_count": 8,
   "metadata": {},
   "outputs": [
    {
     "name": "stdout",
     "output_type": "stream",
     "text": [
      "\n",
      "Missing Values in Each Column:\n",
      "City bank branch        0\n",
      "Year                    0\n",
      "Month                   0\n",
      "Service category        0\n",
      "Customer Volume         3\n",
      "Deposit Value (£000)    3\n",
      "Date                    0\n",
      "dtype: int64\n"
     ]
    }
   ],
   "source": [
    "# Check for missing values in the dataset\n",
    "missing_values = df.isnull().sum()\n",
    "print(\"\\nMissing Values in Each Column:\")\n",
    "print(missing_values)"
   ]
  },
  {
   "cell_type": "markdown",
   "metadata": {},
   "source": [
    "# **Handling numeric variables, fill missing values using the median.**"
   ]
  },
  {
   "cell_type": "code",
   "execution_count": 9,
   "metadata": {},
   "outputs": [
    {
     "name": "stdout",
     "output_type": "stream",
     "text": [
      "Customer Volume         0\n",
      "Deposit Value (£000)    0\n",
      "dtype: int64\n"
     ]
    }
   ],
   "source": [
    "# Loop through the specified numeric columns to handle missing values\n",
    "for col in ['Customer Volume', 'Deposit Value (£000)']:\n",
    "    # Check if the column exists in the DataFrame (to avoid errors)\n",
    "    if col in df.columns:\n",
    "        # Calculate the median value for the column (ignoring NaNs)\n",
    "        median_val = df[col].median()\n",
    "        # Fill missing values with the median and assign back to the column\n",
    "        df[col] = df[col].fillna(median_val)  # Avoids inplace modification warning\n",
    "        \n",
    "# Checking the null values from Customer value and Deposit Value (£000) after filling it with median\n",
    "print(df[['Customer Volume', 'Deposit Value (£000)']].isnull().sum())"
   ]
  },
  {
   "cell_type": "markdown",
   "metadata": {},
   "source": [
    "# **Identifying If there is duplicate values in Dataframe** "
   ]
  },
  {
   "cell_type": "code",
   "execution_count": 10,
   "metadata": {},
   "outputs": [
    {
     "data": {
      "text/plain": [
       "np.int64(0)"
      ]
     },
     "execution_count": 10,
     "metadata": {},
     "output_type": "execute_result"
    }
   ],
   "source": [
    "# Check for and remove any duplicate records to ensure data accuracy.\n",
    "df.duplicated().sum()"
   ]
  },
  {
   "cell_type": "markdown",
   "metadata": {},
   "source": [
    "# **Checking Negative Values in Customer Value & Deposit Value (£000) then Imputing NaN and Median replacing those Values**"
   ]
  },
  {
   "cell_type": "code",
   "execution_count": 11,
   "metadata": {},
   "outputs": [
    {
     "name": "stdout",
     "output_type": "stream",
     "text": [
      "Found 3 negative values in 'Customer Volume'. Replacing with NaN and imputing median.\n",
      "Imputed missing values in 'Customer Volume' with median: 81.5\n",
      "Found 3 negative values in 'Deposit Value (£000)'. Replacing with NaN and imputing median.\n",
      "Imputed missing values in 'Deposit Value (£000)' with median: 239.0\n"
     ]
    }
   ],
   "source": [
    "# Iterate over the specified columns\n",
    "for col in ['Customer Volume', 'Deposit Value (£000)']:\n",
    "    if col in df.columns:\n",
    "        # Count the number of negative values\n",
    "        num_negatives = (df[col] < 0).sum()\n",
    "\n",
    "        if num_negatives > 0:\n",
    "            print(f\"Found {num_negatives} negative values in '{col}'. Replacing with NaN and imputing median.\")\n",
    "\n",
    "            # Replace negative values with NaN (proper way to modify DataFrame)\n",
    "            df.loc[df[col] < 0, col] = np.nan  \n",
    "\n",
    "            # Compute the median (excluding NaN values)\n",
    "            median_value = df[col].median()\n",
    "\n",
    "            # Fill missing values with the median and assign back properly to avoid chained assignment\n",
    "            df[col] = df[col].fillna(median_value)\n",
    "            \n",
    "            # Print confirmation message\n",
    "            print(f\"Imputed missing values in '{col}' with median: {median_value}\")\n",
    "        else:\n",
    "            print(f\"No negative values found in '{col}'.\")"
   ]
  },
  {
   "cell_type": "markdown",
   "metadata": {},
   "source": [
    "# **Checking the Value Counts of Service category**"
   ]
  },
  {
   "cell_type": "code",
   "execution_count": 12,
   "metadata": {},
   "outputs": [
    {
     "data": {
      "text/plain": [
       "Service category\n",
       "Current accounts                    108\n",
       "Certificates of deposit             108\n",
       "Money savings accounts              108\n",
       "Individual savings account (ISA)    107\n",
       "Children’s savings accounts         105\n",
       "Bonds savings accounts              105\n",
       "Bond%%%% savings accounts             3\n",
       "Children’s $@                         3\n",
       "Individual savings account $$$$$      1\n",
       "Name: count, dtype: int64"
      ]
     },
     "execution_count": 12,
     "metadata": {},
     "output_type": "execute_result"
    }
   ],
   "source": [
    "df['Service category'].value_counts()"
   ]
  },
  {
   "cell_type": "markdown",
   "metadata": {},
   "source": [
    "# **Through Mapping, Standardizing the Service category**"
   ]
  },
  {
   "cell_type": "code",
   "execution_count": 13,
   "metadata": {},
   "outputs": [
    {
     "name": "stdout",
     "output_type": "stream",
     "text": [
      "Service category\n",
      "Current accounts               108\n",
      "Bonds savings accounts         108\n",
      "Children’s savings accounts    108\n",
      "Certificates of deposit        108\n",
      "Individual savings account     108\n",
      "Money savings accounts         108\n",
      "Name: count, dtype: int64\n"
     ]
    }
   ],
   "source": [
    "# Define a dictionary to map inconsistent category names to their correct versions\n",
    "category_mapping = {\n",
    "    'Individual savings account (ISA)': 'Individual savings account',  # Standardize ISA naming\n",
    "    'Individual savings account $$$$$': 'Individual savings account',  # Remove extra characters\n",
    "    'Bond%%%% savings accounts': 'Bonds savings accounts',  # Fix special character issue\n",
    "    \"Children’s $@\": \"Children’s savings accounts\"  # Standardize children's account name\n",
    "}\n",
    "# Replace incorrect or inconsistent category names in the 'Service category' column\n",
    "df['Service category'] = df['Service category'].replace(category_mapping)\n",
    "# Display the count of unique values in the updated 'Service category' column\n",
    "print(df['Service category'].value_counts())"
   ]
  },
  {
   "cell_type": "markdown",
   "metadata": {},
   "source": [
    "# **Checking the Value Counts of City bank branch**"
   ]
  },
  {
   "cell_type": "code",
   "execution_count": 14,
   "metadata": {},
   "outputs": [
    {
     "data": {
      "text/plain": [
       "City bank branch\n",
       "Oxford         216\n",
       "Edinburgh      216\n",
       "Cardiff        209\n",
       "Cardi££££££      7\n",
       "Name: count, dtype: int64"
      ]
     },
     "execution_count": 14,
     "metadata": {},
     "output_type": "execute_result"
    }
   ],
   "source": [
    "df[\"City bank branch\"].value_counts()"
   ]
  },
  {
   "cell_type": "markdown",
   "metadata": {},
   "source": [
    "# **Through Mapping, Standardizing the City bank branch**"
   ]
  },
  {
   "cell_type": "code",
   "execution_count": 15,
   "metadata": {},
   "outputs": [
    {
     "name": "stdout",
     "output_type": "stream",
     "text": [
      "City bank branch\n",
      "Oxford       216\n",
      "Edinburgh    216\n",
      "Cardiff      216\n",
      "Name: count, dtype: int64\n"
     ]
    }
   ],
   "source": [
    "# Define a dictionary to map incorrect branch names to their correct versions\n",
    "branch_mapping = {\n",
    "    'Cardi££££££': 'Cardiff'  # Fix incorrect characters in 'Cardiff'\n",
    "}\n",
    "# Apply the mapping to replace incorrect branch names with the correct ones\n",
    "df['City bank branch'] = df['City bank branch'].replace(branch_mapping)\n",
    "# Display the count of unique values in the cleaned 'City bank branch' column\n",
    "print(df['City bank branch'].value_counts())"
   ]
  },
  {
   "cell_type": "markdown",
   "metadata": {},
   "source": [
    "# **Section 2(b): Data Analysis and Commentary**\n",
    "# Next, we will create tables to analyze the dataset.\n",
    "# We add new columns for 'Year', 'Month', and 'Quarter' based on the standardized date."
   ]
  },
  {
   "cell_type": "code",
   "execution_count": 16,
   "metadata": {},
   "outputs": [],
   "source": [
    "# Create new time-related columns for grouping data\n",
    "df['Year'] = df['Date'].dt.year\n",
    "df['Month'] = df['Date'].dt.month\n",
    "df['Quarter'] = df['Date'].dt.quarter"
   ]
  },
  {
   "cell_type": "markdown",
   "metadata": {},
   "source": [
    "# **Table 1: Monthly Trends in Total Customer Volume and Deposit Value**\n",
    "# This table aggregates the total customer volume and deposit value by month and year."
   ]
  },
  {
   "cell_type": "code",
   "execution_count": 17,
   "metadata": {},
   "outputs": [
    {
     "name": "stdout",
     "output_type": "stream",
     "text": [
      "\n",
      "Table 1: Monthly Trends in Total Customer Volume and Deposit Value\n"
     ]
    },
    {
     "data": {
      "application/vnd.microsoft.datawrangler.viewer.v0+json": {
       "columns": [
        {
         "name": "index",
         "rawType": "int64",
         "type": "integer"
        },
        {
         "name": "Month",
         "rawType": "int32",
         "type": "integer"
        },
        {
         "name": "Year",
         "rawType": "int32",
         "type": "integer"
        },
        {
         "name": "Customer Volume",
         "rawType": "float64",
         "type": "float"
        },
        {
         "name": "Deposit Value (£000)",
         "rawType": "float64",
         "type": "float"
        }
       ],
       "conversionMethod": "pd.DataFrame",
       "ref": "33adba74-5f97-4798-b22d-b83533a3e6f2",
       "rows": [
        [
         "0",
         "1",
         "2021",
         "1305.0",
         "4098.25"
        ],
        [
         "1",
         "1",
         "2022",
         "1265.0",
         "4152.25"
        ],
        [
         "2",
         "1",
         "2023",
         "1434.0",
         "4117.75"
        ],
        [
         "3",
         "2",
         "2021",
         "1419.5",
         "3465.5"
        ],
        [
         "4",
         "2",
         "2022",
         "1387.0",
         "4370.25"
        ],
        [
         "5",
         "2",
         "2023",
         "1393.0",
         "4501.25"
        ],
        [
         "6",
         "3",
         "2021",
         "1623.0",
         "5125.75"
        ],
        [
         "7",
         "3",
         "2022",
         "1546.5",
         "5213.25"
        ],
        [
         "8",
         "3",
         "2023",
         "1659.5",
         "5097.75"
        ],
        [
         "9",
         "4",
         "2021",
         "1746.0",
         "6256.5"
        ],
        [
         "10",
         "4",
         "2022",
         "1961.0",
         "6120.0"
        ],
        [
         "11",
         "4",
         "2023",
         "2068.5",
         "6342.75"
        ],
        [
         "12",
         "5",
         "2021",
         "1482.0",
         "4937.75"
        ],
        [
         "13",
         "5",
         "2022",
         "1587.5",
         "5014.25"
        ],
        [
         "14",
         "5",
         "2023",
         "1752.0",
         "5210.25"
        ],
        [
         "15",
         "6",
         "2021",
         "1572.5",
         "5172.75"
        ],
        [
         "16",
         "6",
         "2022",
         "1618.5",
         "5742.75"
        ],
        [
         "17",
         "6",
         "2023",
         "1799.4559999999997",
         "5859.1939999999995"
        ],
        [
         "18",
         "7",
         "2021",
         "1788.0",
         "5452.5"
        ],
        [
         "19",
         "7",
         "2022",
         "1783.0",
         "6223.0"
        ],
        [
         "20",
         "7",
         "2023",
         "2127.457999999999",
         "7092.641999999997"
        ],
        [
         "21",
         "8",
         "2021",
         "1845.5",
         "5976.25"
        ],
        [
         "22",
         "8",
         "2022",
         "2010.0",
         "5810.5"
        ],
        [
         "23",
         "8",
         "2023",
         "2449.6059999999984",
         "7773.293999999994"
        ],
        [
         "24",
         "9",
         "2021",
         "1483.0",
         "4173.0"
        ],
        [
         "25",
         "9",
         "2022",
         "1482.0",
         "5294.25"
        ],
        [
         "26",
         "9",
         "2023",
         "1822.8099999999981",
         "5568.849999999995"
        ],
        [
         "27",
         "10",
         "2021",
         "1519.0",
         "4777.25"
        ],
        [
         "28",
         "10",
         "2022",
         "1648.5",
         "5313.0"
        ],
        [
         "29",
         "10",
         "2023",
         "1836.7319999999977",
         "5771.345999999993"
        ],
        [
         "30",
         "11",
         "2021",
         "1452.0",
         "4954.25"
        ],
        [
         "31",
         "11",
         "2022",
         "1775.5",
         "5268.0"
        ],
        [
         "32",
         "11",
         "2023",
         "2016.8019999999972",
         "6377.861999999991"
        ],
        [
         "33",
         "12",
         "2021",
         "1711.0",
         "4898.5"
        ],
        [
         "34",
         "12",
         "2022",
         "1685.5",
         "5883.0"
        ],
        [
         "35",
         "12",
         "2023",
         "1818.3279999999968",
         "5979.6719999999905"
        ]
       ],
       "shape": {
        "columns": 4,
        "rows": 36
       }
      },
      "text/html": [
       "<div>\n",
       "<style scoped>\n",
       "    .dataframe tbody tr th:only-of-type {\n",
       "        vertical-align: middle;\n",
       "    }\n",
       "\n",
       "    .dataframe tbody tr th {\n",
       "        vertical-align: top;\n",
       "    }\n",
       "\n",
       "    .dataframe thead th {\n",
       "        text-align: right;\n",
       "    }\n",
       "</style>\n",
       "<table border=\"1\" class=\"dataframe\">\n",
       "  <thead>\n",
       "    <tr style=\"text-align: right;\">\n",
       "      <th></th>\n",
       "      <th>Month</th>\n",
       "      <th>Year</th>\n",
       "      <th>Customer Volume</th>\n",
       "      <th>Deposit Value (£000)</th>\n",
       "    </tr>\n",
       "  </thead>\n",
       "  <tbody>\n",
       "    <tr>\n",
       "      <th>0</th>\n",
       "      <td>1</td>\n",
       "      <td>2021</td>\n",
       "      <td>1305.000</td>\n",
       "      <td>4098.250</td>\n",
       "    </tr>\n",
       "    <tr>\n",
       "      <th>1</th>\n",
       "      <td>1</td>\n",
       "      <td>2022</td>\n",
       "      <td>1265.000</td>\n",
       "      <td>4152.250</td>\n",
       "    </tr>\n",
       "    <tr>\n",
       "      <th>2</th>\n",
       "      <td>1</td>\n",
       "      <td>2023</td>\n",
       "      <td>1434.000</td>\n",
       "      <td>4117.750</td>\n",
       "    </tr>\n",
       "    <tr>\n",
       "      <th>3</th>\n",
       "      <td>2</td>\n",
       "      <td>2021</td>\n",
       "      <td>1419.500</td>\n",
       "      <td>3465.500</td>\n",
       "    </tr>\n",
       "    <tr>\n",
       "      <th>4</th>\n",
       "      <td>2</td>\n",
       "      <td>2022</td>\n",
       "      <td>1387.000</td>\n",
       "      <td>4370.250</td>\n",
       "    </tr>\n",
       "    <tr>\n",
       "      <th>5</th>\n",
       "      <td>2</td>\n",
       "      <td>2023</td>\n",
       "      <td>1393.000</td>\n",
       "      <td>4501.250</td>\n",
       "    </tr>\n",
       "    <tr>\n",
       "      <th>6</th>\n",
       "      <td>3</td>\n",
       "      <td>2021</td>\n",
       "      <td>1623.000</td>\n",
       "      <td>5125.750</td>\n",
       "    </tr>\n",
       "    <tr>\n",
       "      <th>7</th>\n",
       "      <td>3</td>\n",
       "      <td>2022</td>\n",
       "      <td>1546.500</td>\n",
       "      <td>5213.250</td>\n",
       "    </tr>\n",
       "    <tr>\n",
       "      <th>8</th>\n",
       "      <td>3</td>\n",
       "      <td>2023</td>\n",
       "      <td>1659.500</td>\n",
       "      <td>5097.750</td>\n",
       "    </tr>\n",
       "    <tr>\n",
       "      <th>9</th>\n",
       "      <td>4</td>\n",
       "      <td>2021</td>\n",
       "      <td>1746.000</td>\n",
       "      <td>6256.500</td>\n",
       "    </tr>\n",
       "    <tr>\n",
       "      <th>10</th>\n",
       "      <td>4</td>\n",
       "      <td>2022</td>\n",
       "      <td>1961.000</td>\n",
       "      <td>6120.000</td>\n",
       "    </tr>\n",
       "    <tr>\n",
       "      <th>11</th>\n",
       "      <td>4</td>\n",
       "      <td>2023</td>\n",
       "      <td>2068.500</td>\n",
       "      <td>6342.750</td>\n",
       "    </tr>\n",
       "    <tr>\n",
       "      <th>12</th>\n",
       "      <td>5</td>\n",
       "      <td>2021</td>\n",
       "      <td>1482.000</td>\n",
       "      <td>4937.750</td>\n",
       "    </tr>\n",
       "    <tr>\n",
       "      <th>13</th>\n",
       "      <td>5</td>\n",
       "      <td>2022</td>\n",
       "      <td>1587.500</td>\n",
       "      <td>5014.250</td>\n",
       "    </tr>\n",
       "    <tr>\n",
       "      <th>14</th>\n",
       "      <td>5</td>\n",
       "      <td>2023</td>\n",
       "      <td>1752.000</td>\n",
       "      <td>5210.250</td>\n",
       "    </tr>\n",
       "    <tr>\n",
       "      <th>15</th>\n",
       "      <td>6</td>\n",
       "      <td>2021</td>\n",
       "      <td>1572.500</td>\n",
       "      <td>5172.750</td>\n",
       "    </tr>\n",
       "    <tr>\n",
       "      <th>16</th>\n",
       "      <td>6</td>\n",
       "      <td>2022</td>\n",
       "      <td>1618.500</td>\n",
       "      <td>5742.750</td>\n",
       "    </tr>\n",
       "    <tr>\n",
       "      <th>17</th>\n",
       "      <td>6</td>\n",
       "      <td>2023</td>\n",
       "      <td>1799.456</td>\n",
       "      <td>5859.194</td>\n",
       "    </tr>\n",
       "    <tr>\n",
       "      <th>18</th>\n",
       "      <td>7</td>\n",
       "      <td>2021</td>\n",
       "      <td>1788.000</td>\n",
       "      <td>5452.500</td>\n",
       "    </tr>\n",
       "    <tr>\n",
       "      <th>19</th>\n",
       "      <td>7</td>\n",
       "      <td>2022</td>\n",
       "      <td>1783.000</td>\n",
       "      <td>6223.000</td>\n",
       "    </tr>\n",
       "    <tr>\n",
       "      <th>20</th>\n",
       "      <td>7</td>\n",
       "      <td>2023</td>\n",
       "      <td>2127.458</td>\n",
       "      <td>7092.642</td>\n",
       "    </tr>\n",
       "    <tr>\n",
       "      <th>21</th>\n",
       "      <td>8</td>\n",
       "      <td>2021</td>\n",
       "      <td>1845.500</td>\n",
       "      <td>5976.250</td>\n",
       "    </tr>\n",
       "    <tr>\n",
       "      <th>22</th>\n",
       "      <td>8</td>\n",
       "      <td>2022</td>\n",
       "      <td>2010.000</td>\n",
       "      <td>5810.500</td>\n",
       "    </tr>\n",
       "    <tr>\n",
       "      <th>23</th>\n",
       "      <td>8</td>\n",
       "      <td>2023</td>\n",
       "      <td>2449.606</td>\n",
       "      <td>7773.294</td>\n",
       "    </tr>\n",
       "    <tr>\n",
       "      <th>24</th>\n",
       "      <td>9</td>\n",
       "      <td>2021</td>\n",
       "      <td>1483.000</td>\n",
       "      <td>4173.000</td>\n",
       "    </tr>\n",
       "    <tr>\n",
       "      <th>25</th>\n",
       "      <td>9</td>\n",
       "      <td>2022</td>\n",
       "      <td>1482.000</td>\n",
       "      <td>5294.250</td>\n",
       "    </tr>\n",
       "    <tr>\n",
       "      <th>26</th>\n",
       "      <td>9</td>\n",
       "      <td>2023</td>\n",
       "      <td>1822.810</td>\n",
       "      <td>5568.850</td>\n",
       "    </tr>\n",
       "    <tr>\n",
       "      <th>27</th>\n",
       "      <td>10</td>\n",
       "      <td>2021</td>\n",
       "      <td>1519.000</td>\n",
       "      <td>4777.250</td>\n",
       "    </tr>\n",
       "    <tr>\n",
       "      <th>28</th>\n",
       "      <td>10</td>\n",
       "      <td>2022</td>\n",
       "      <td>1648.500</td>\n",
       "      <td>5313.000</td>\n",
       "    </tr>\n",
       "    <tr>\n",
       "      <th>29</th>\n",
       "      <td>10</td>\n",
       "      <td>2023</td>\n",
       "      <td>1836.732</td>\n",
       "      <td>5771.346</td>\n",
       "    </tr>\n",
       "    <tr>\n",
       "      <th>30</th>\n",
       "      <td>11</td>\n",
       "      <td>2021</td>\n",
       "      <td>1452.000</td>\n",
       "      <td>4954.250</td>\n",
       "    </tr>\n",
       "    <tr>\n",
       "      <th>31</th>\n",
       "      <td>11</td>\n",
       "      <td>2022</td>\n",
       "      <td>1775.500</td>\n",
       "      <td>5268.000</td>\n",
       "    </tr>\n",
       "    <tr>\n",
       "      <th>32</th>\n",
       "      <td>11</td>\n",
       "      <td>2023</td>\n",
       "      <td>2016.802</td>\n",
       "      <td>6377.862</td>\n",
       "    </tr>\n",
       "    <tr>\n",
       "      <th>33</th>\n",
       "      <td>12</td>\n",
       "      <td>2021</td>\n",
       "      <td>1711.000</td>\n",
       "      <td>4898.500</td>\n",
       "    </tr>\n",
       "    <tr>\n",
       "      <th>34</th>\n",
       "      <td>12</td>\n",
       "      <td>2022</td>\n",
       "      <td>1685.500</td>\n",
       "      <td>5883.000</td>\n",
       "    </tr>\n",
       "    <tr>\n",
       "      <th>35</th>\n",
       "      <td>12</td>\n",
       "      <td>2023</td>\n",
       "      <td>1818.328</td>\n",
       "      <td>5979.672</td>\n",
       "    </tr>\n",
       "  </tbody>\n",
       "</table>\n",
       "</div>"
      ],
      "text/plain": [
       "    Month  Year  Customer Volume  Deposit Value (£000)\n",
       "0       1  2021         1305.000              4098.250\n",
       "1       1  2022         1265.000              4152.250\n",
       "2       1  2023         1434.000              4117.750\n",
       "3       2  2021         1419.500              3465.500\n",
       "4       2  2022         1387.000              4370.250\n",
       "5       2  2023         1393.000              4501.250\n",
       "6       3  2021         1623.000              5125.750\n",
       "7       3  2022         1546.500              5213.250\n",
       "8       3  2023         1659.500              5097.750\n",
       "9       4  2021         1746.000              6256.500\n",
       "10      4  2022         1961.000              6120.000\n",
       "11      4  2023         2068.500              6342.750\n",
       "12      5  2021         1482.000              4937.750\n",
       "13      5  2022         1587.500              5014.250\n",
       "14      5  2023         1752.000              5210.250\n",
       "15      6  2021         1572.500              5172.750\n",
       "16      6  2022         1618.500              5742.750\n",
       "17      6  2023         1799.456              5859.194\n",
       "18      7  2021         1788.000              5452.500\n",
       "19      7  2022         1783.000              6223.000\n",
       "20      7  2023         2127.458              7092.642\n",
       "21      8  2021         1845.500              5976.250\n",
       "22      8  2022         2010.000              5810.500\n",
       "23      8  2023         2449.606              7773.294\n",
       "24      9  2021         1483.000              4173.000\n",
       "25      9  2022         1482.000              5294.250\n",
       "26      9  2023         1822.810              5568.850\n",
       "27     10  2021         1519.000              4777.250\n",
       "28     10  2022         1648.500              5313.000\n",
       "29     10  2023         1836.732              5771.346\n",
       "30     11  2021         1452.000              4954.250\n",
       "31     11  2022         1775.500              5268.000\n",
       "32     11  2023         2016.802              6377.862\n",
       "33     12  2021         1711.000              4898.500\n",
       "34     12  2022         1685.500              5883.000\n",
       "35     12  2023         1818.328              5979.672"
      ]
     },
     "metadata": {},
     "output_type": "display_data"
    }
   ],
   "source": [
    "# Group data by 'Month' and 'Year' and calculate the total (sum) for each period\n",
    "table1 = df.groupby(['Month', 'Year']).agg({\n",
    "    'Customer Volume': 'sum',  # Sum up total customer volume per month/year\n",
    "    'Deposit Value (£000)': 'sum'  # Sum up total deposit value per month/year\n",
    "}).reset_index()  # Reset index to keep 'Month' and 'Year' as columns\n",
    "\n",
    "# Sort the table chronologically by 'Month' and 'Year'\n",
    "table1 = table1.sort_values(['Month', 'Year'])\n",
    "\n",
    "# Print a title for clarity\n",
    "print(\"\\nTable 1: Monthly Trends in Total Customer Volume and Deposit Value\")\n",
    "\n",
    "# Display the final grouped and sorted table\n",
    "display(table1)"
   ]
  },
  {
   "cell_type": "markdown",
   "metadata": {},
   "source": [
    "# **Explanation of Table 1:**\n",
    "# - The table displays aggregated values of customer volume and deposit value for each month over the three-year period.\n",
    "# - Trends such as seasonal variations and overall growth can be observed."
   ]
  },
  {
   "cell_type": "markdown",
   "metadata": {},
   "source": [
    "# **Table 2: Benchmark Comparisons by City (Quarterly Averages)**\n",
    "# This table calculates the average customer volume and deposit value for each city by quarter and year."
   ]
  },
  {
   "cell_type": "code",
   "execution_count": 18,
   "metadata": {},
   "outputs": [
    {
     "name": "stdout",
     "output_type": "stream",
     "text": [
      "\n",
      "Table 2: Benchmark Comparisons by City (Quarterly Averages)\n"
     ]
    },
    {
     "data": {
      "application/vnd.microsoft.datawrangler.viewer.v0+json": {
       "columns": [
        {
         "name": "index",
         "rawType": "int64",
         "type": "integer"
        },
        {
         "name": "City bank branch",
         "rawType": "object",
         "type": "string"
        },
        {
         "name": "Quarter",
         "rawType": "int32",
         "type": "integer"
        },
        {
         "name": "Year",
         "rawType": "int32",
         "type": "integer"
        },
        {
         "name": "Customer Volume",
         "rawType": "float64",
         "type": "float"
        },
        {
         "name": "Deposit Value (£000)",
         "rawType": "float64",
         "type": "float"
        }
       ],
       "conversionMethod": "pd.DataFrame",
       "ref": "3b7baa14-eed9-4368-8fc7-55157e9c9c30",
       "rows": [
        [
         "0",
         "Cardiff",
         "1",
         "2021",
         "61.361111111111114",
         "161.33333333333334"
        ],
        [
         "1",
         "Cardiff",
         "1",
         "2022",
         "49.72222222222222",
         "183.44444444444446"
        ],
        [
         "2",
         "Cardiff",
         "1",
         "2023",
         "66.5",
         "184.52777777777777"
        ],
        [
         "3",
         "Cardiff",
         "2",
         "2021",
         "62.72222222222222",
         "218.97222222222223"
        ],
        [
         "4",
         "Cardiff",
         "2",
         "2022",
         "64.61111111111111",
         "181.88888888888889"
        ],
        [
         "5",
         "Cardiff",
         "2",
         "2023",
         "75.11111111111111",
         "214.0"
        ],
        [
         "6",
         "Cardiff",
         "3",
         "2021",
         "67.22222222222223",
         "212.63888888888889"
        ],
        [
         "7",
         "Cardiff",
         "3",
         "2022",
         "59.666666666666664",
         "225.27777777777777"
        ],
        [
         "8",
         "Cardiff",
         "3",
         "2023",
         "72.05555555555556",
         "232.5"
        ],
        [
         "9",
         "Cardiff",
         "4",
         "2021",
         "57.44444444444444",
         "196.25"
        ],
        [
         "10",
         "Cardiff",
         "4",
         "2022",
         "59.27777777777778",
         "182.97222222222223"
        ],
        [
         "11",
         "Cardiff",
         "4",
         "2023",
         "66.27777777777777",
         "191.94444444444446"
        ],
        [
         "12",
         "Edinburgh",
         "1",
         "2021",
         "69.94444444444444",
         "223.08333333333334"
        ],
        [
         "13",
         "Edinburgh",
         "1",
         "2022",
         "78.63888888888889",
         "230.375"
        ],
        [
         "14",
         "Edinburgh",
         "1",
         "2023",
         "75.97222222222223",
         "244.45833333333334"
        ],
        [
         "15",
         "Edinburgh",
         "2",
         "2021",
         "82.61111111111111",
         "306.6388888888889"
        ],
        [
         "16",
         "Edinburgh",
         "2",
         "2022",
         "94.69444444444444",
         "329.1666666666667"
        ],
        [
         "17",
         "Edinburgh",
         "2",
         "2023",
         "103.80555555555556",
         "312.25"
        ],
        [
         "18",
         "Edinburgh",
         "3",
         "2021",
         "88.13888888888889",
         "245.84722222222223"
        ],
        [
         "19",
         "Edinburgh",
         "3",
         "2022",
         "102.11111111111111",
         "318.2638888888889"
        ],
        [
         "20",
         "Edinburgh",
         "3",
         "2023",
         "107.0",
         "354.5416666666667"
        ],
        [
         "21",
         "Edinburgh",
         "4",
         "2021",
         "90.05555555555556",
         "267.6388888888889"
        ],
        [
         "22",
         "Edinburgh",
         "4",
         "2022",
         "98.47222222222223",
         "303.6388888888889"
        ],
        [
         "23",
         "Edinburgh",
         "4",
         "2023",
         "94.08333333333333",
         "283.2361111111111"
        ],
        [
         "24",
         "Oxford",
         "1",
         "2021",
         "110.22222222222223",
         "320.55555555555554"
        ],
        [
         "25",
         "Oxford",
         "1",
         "2022",
         "104.88888888888889",
         "349.27777777777777"
        ],
        [
         "26",
         "Oxford",
         "1",
         "2023",
         "106.77777777777777",
         "333.05555555555554"
        ],
        [
         "27",
         "Oxford",
         "2",
         "2021",
         "121.36111111111111",
         "383.6666666666667"
        ],
        [
         "28",
         "Oxford",
         "2",
         "2022",
         "127.75",
         "426.55555555555554"
        ],
        [
         "29",
         "Oxford",
         "2",
         "2023",
         "133.3031111111111",
         "441.0941111111111"
        ],
        [
         "30",
         "Oxford",
         "3",
         "2021",
         "128.88888888888889",
         "408.27777777777777"
        ],
        [
         "31",
         "Oxford",
         "3",
         "2022",
         "131.27777777777777",
         "419.1111111111111"
        ],
        [
         "32",
         "Oxford",
         "3",
         "2023",
         "176.49299999999977",
         "548.2242222222216"
        ],
        [
         "33",
         "Oxford",
         "4",
         "2021",
         "112.61111111111111",
         "348.8888888888889"
        ],
        [
         "34",
         "Oxford",
         "4",
         "2022",
         "126.11111111111111",
         "428.05555555555554"
        ],
        [
         "35",
         "Oxford",
         "4",
         "2023",
         "154.74233333333288",
         "531.979444444443"
        ]
       ],
       "shape": {
        "columns": 5,
        "rows": 36
       }
      },
      "text/html": [
       "<div>\n",
       "<style scoped>\n",
       "    .dataframe tbody tr th:only-of-type {\n",
       "        vertical-align: middle;\n",
       "    }\n",
       "\n",
       "    .dataframe tbody tr th {\n",
       "        vertical-align: top;\n",
       "    }\n",
       "\n",
       "    .dataframe thead th {\n",
       "        text-align: right;\n",
       "    }\n",
       "</style>\n",
       "<table border=\"1\" class=\"dataframe\">\n",
       "  <thead>\n",
       "    <tr style=\"text-align: right;\">\n",
       "      <th></th>\n",
       "      <th>City bank branch</th>\n",
       "      <th>Quarter</th>\n",
       "      <th>Year</th>\n",
       "      <th>Customer Volume</th>\n",
       "      <th>Deposit Value (£000)</th>\n",
       "    </tr>\n",
       "  </thead>\n",
       "  <tbody>\n",
       "    <tr>\n",
       "      <th>0</th>\n",
       "      <td>Cardiff</td>\n",
       "      <td>1</td>\n",
       "      <td>2021</td>\n",
       "      <td>61.361111</td>\n",
       "      <td>161.333333</td>\n",
       "    </tr>\n",
       "    <tr>\n",
       "      <th>1</th>\n",
       "      <td>Cardiff</td>\n",
       "      <td>1</td>\n",
       "      <td>2022</td>\n",
       "      <td>49.722222</td>\n",
       "      <td>183.444444</td>\n",
       "    </tr>\n",
       "    <tr>\n",
       "      <th>2</th>\n",
       "      <td>Cardiff</td>\n",
       "      <td>1</td>\n",
       "      <td>2023</td>\n",
       "      <td>66.500000</td>\n",
       "      <td>184.527778</td>\n",
       "    </tr>\n",
       "    <tr>\n",
       "      <th>3</th>\n",
       "      <td>Cardiff</td>\n",
       "      <td>2</td>\n",
       "      <td>2021</td>\n",
       "      <td>62.722222</td>\n",
       "      <td>218.972222</td>\n",
       "    </tr>\n",
       "    <tr>\n",
       "      <th>4</th>\n",
       "      <td>Cardiff</td>\n",
       "      <td>2</td>\n",
       "      <td>2022</td>\n",
       "      <td>64.611111</td>\n",
       "      <td>181.888889</td>\n",
       "    </tr>\n",
       "    <tr>\n",
       "      <th>5</th>\n",
       "      <td>Cardiff</td>\n",
       "      <td>2</td>\n",
       "      <td>2023</td>\n",
       "      <td>75.111111</td>\n",
       "      <td>214.000000</td>\n",
       "    </tr>\n",
       "    <tr>\n",
       "      <th>6</th>\n",
       "      <td>Cardiff</td>\n",
       "      <td>3</td>\n",
       "      <td>2021</td>\n",
       "      <td>67.222222</td>\n",
       "      <td>212.638889</td>\n",
       "    </tr>\n",
       "    <tr>\n",
       "      <th>7</th>\n",
       "      <td>Cardiff</td>\n",
       "      <td>3</td>\n",
       "      <td>2022</td>\n",
       "      <td>59.666667</td>\n",
       "      <td>225.277778</td>\n",
       "    </tr>\n",
       "    <tr>\n",
       "      <th>8</th>\n",
       "      <td>Cardiff</td>\n",
       "      <td>3</td>\n",
       "      <td>2023</td>\n",
       "      <td>72.055556</td>\n",
       "      <td>232.500000</td>\n",
       "    </tr>\n",
       "    <tr>\n",
       "      <th>9</th>\n",
       "      <td>Cardiff</td>\n",
       "      <td>4</td>\n",
       "      <td>2021</td>\n",
       "      <td>57.444444</td>\n",
       "      <td>196.250000</td>\n",
       "    </tr>\n",
       "    <tr>\n",
       "      <th>10</th>\n",
       "      <td>Cardiff</td>\n",
       "      <td>4</td>\n",
       "      <td>2022</td>\n",
       "      <td>59.277778</td>\n",
       "      <td>182.972222</td>\n",
       "    </tr>\n",
       "    <tr>\n",
       "      <th>11</th>\n",
       "      <td>Cardiff</td>\n",
       "      <td>4</td>\n",
       "      <td>2023</td>\n",
       "      <td>66.277778</td>\n",
       "      <td>191.944444</td>\n",
       "    </tr>\n",
       "    <tr>\n",
       "      <th>12</th>\n",
       "      <td>Edinburgh</td>\n",
       "      <td>1</td>\n",
       "      <td>2021</td>\n",
       "      <td>69.944444</td>\n",
       "      <td>223.083333</td>\n",
       "    </tr>\n",
       "    <tr>\n",
       "      <th>13</th>\n",
       "      <td>Edinburgh</td>\n",
       "      <td>1</td>\n",
       "      <td>2022</td>\n",
       "      <td>78.638889</td>\n",
       "      <td>230.375000</td>\n",
       "    </tr>\n",
       "    <tr>\n",
       "      <th>14</th>\n",
       "      <td>Edinburgh</td>\n",
       "      <td>1</td>\n",
       "      <td>2023</td>\n",
       "      <td>75.972222</td>\n",
       "      <td>244.458333</td>\n",
       "    </tr>\n",
       "    <tr>\n",
       "      <th>15</th>\n",
       "      <td>Edinburgh</td>\n",
       "      <td>2</td>\n",
       "      <td>2021</td>\n",
       "      <td>82.611111</td>\n",
       "      <td>306.638889</td>\n",
       "    </tr>\n",
       "    <tr>\n",
       "      <th>16</th>\n",
       "      <td>Edinburgh</td>\n",
       "      <td>2</td>\n",
       "      <td>2022</td>\n",
       "      <td>94.694444</td>\n",
       "      <td>329.166667</td>\n",
       "    </tr>\n",
       "    <tr>\n",
       "      <th>17</th>\n",
       "      <td>Edinburgh</td>\n",
       "      <td>2</td>\n",
       "      <td>2023</td>\n",
       "      <td>103.805556</td>\n",
       "      <td>312.250000</td>\n",
       "    </tr>\n",
       "    <tr>\n",
       "      <th>18</th>\n",
       "      <td>Edinburgh</td>\n",
       "      <td>3</td>\n",
       "      <td>2021</td>\n",
       "      <td>88.138889</td>\n",
       "      <td>245.847222</td>\n",
       "    </tr>\n",
       "    <tr>\n",
       "      <th>19</th>\n",
       "      <td>Edinburgh</td>\n",
       "      <td>3</td>\n",
       "      <td>2022</td>\n",
       "      <td>102.111111</td>\n",
       "      <td>318.263889</td>\n",
       "    </tr>\n",
       "    <tr>\n",
       "      <th>20</th>\n",
       "      <td>Edinburgh</td>\n",
       "      <td>3</td>\n",
       "      <td>2023</td>\n",
       "      <td>107.000000</td>\n",
       "      <td>354.541667</td>\n",
       "    </tr>\n",
       "    <tr>\n",
       "      <th>21</th>\n",
       "      <td>Edinburgh</td>\n",
       "      <td>4</td>\n",
       "      <td>2021</td>\n",
       "      <td>90.055556</td>\n",
       "      <td>267.638889</td>\n",
       "    </tr>\n",
       "    <tr>\n",
       "      <th>22</th>\n",
       "      <td>Edinburgh</td>\n",
       "      <td>4</td>\n",
       "      <td>2022</td>\n",
       "      <td>98.472222</td>\n",
       "      <td>303.638889</td>\n",
       "    </tr>\n",
       "    <tr>\n",
       "      <th>23</th>\n",
       "      <td>Edinburgh</td>\n",
       "      <td>4</td>\n",
       "      <td>2023</td>\n",
       "      <td>94.083333</td>\n",
       "      <td>283.236111</td>\n",
       "    </tr>\n",
       "    <tr>\n",
       "      <th>24</th>\n",
       "      <td>Oxford</td>\n",
       "      <td>1</td>\n",
       "      <td>2021</td>\n",
       "      <td>110.222222</td>\n",
       "      <td>320.555556</td>\n",
       "    </tr>\n",
       "    <tr>\n",
       "      <th>25</th>\n",
       "      <td>Oxford</td>\n",
       "      <td>1</td>\n",
       "      <td>2022</td>\n",
       "      <td>104.888889</td>\n",
       "      <td>349.277778</td>\n",
       "    </tr>\n",
       "    <tr>\n",
       "      <th>26</th>\n",
       "      <td>Oxford</td>\n",
       "      <td>1</td>\n",
       "      <td>2023</td>\n",
       "      <td>106.777778</td>\n",
       "      <td>333.055556</td>\n",
       "    </tr>\n",
       "    <tr>\n",
       "      <th>27</th>\n",
       "      <td>Oxford</td>\n",
       "      <td>2</td>\n",
       "      <td>2021</td>\n",
       "      <td>121.361111</td>\n",
       "      <td>383.666667</td>\n",
       "    </tr>\n",
       "    <tr>\n",
       "      <th>28</th>\n",
       "      <td>Oxford</td>\n",
       "      <td>2</td>\n",
       "      <td>2022</td>\n",
       "      <td>127.750000</td>\n",
       "      <td>426.555556</td>\n",
       "    </tr>\n",
       "    <tr>\n",
       "      <th>29</th>\n",
       "      <td>Oxford</td>\n",
       "      <td>2</td>\n",
       "      <td>2023</td>\n",
       "      <td>133.303111</td>\n",
       "      <td>441.094111</td>\n",
       "    </tr>\n",
       "    <tr>\n",
       "      <th>30</th>\n",
       "      <td>Oxford</td>\n",
       "      <td>3</td>\n",
       "      <td>2021</td>\n",
       "      <td>128.888889</td>\n",
       "      <td>408.277778</td>\n",
       "    </tr>\n",
       "    <tr>\n",
       "      <th>31</th>\n",
       "      <td>Oxford</td>\n",
       "      <td>3</td>\n",
       "      <td>2022</td>\n",
       "      <td>131.277778</td>\n",
       "      <td>419.111111</td>\n",
       "    </tr>\n",
       "    <tr>\n",
       "      <th>32</th>\n",
       "      <td>Oxford</td>\n",
       "      <td>3</td>\n",
       "      <td>2023</td>\n",
       "      <td>176.493000</td>\n",
       "      <td>548.224222</td>\n",
       "    </tr>\n",
       "    <tr>\n",
       "      <th>33</th>\n",
       "      <td>Oxford</td>\n",
       "      <td>4</td>\n",
       "      <td>2021</td>\n",
       "      <td>112.611111</td>\n",
       "      <td>348.888889</td>\n",
       "    </tr>\n",
       "    <tr>\n",
       "      <th>34</th>\n",
       "      <td>Oxford</td>\n",
       "      <td>4</td>\n",
       "      <td>2022</td>\n",
       "      <td>126.111111</td>\n",
       "      <td>428.055556</td>\n",
       "    </tr>\n",
       "    <tr>\n",
       "      <th>35</th>\n",
       "      <td>Oxford</td>\n",
       "      <td>4</td>\n",
       "      <td>2023</td>\n",
       "      <td>154.742333</td>\n",
       "      <td>531.979444</td>\n",
       "    </tr>\n",
       "  </tbody>\n",
       "</table>\n",
       "</div>"
      ],
      "text/plain": [
       "   City bank branch  Quarter  Year  Customer Volume  Deposit Value (£000)\n",
       "0           Cardiff        1  2021        61.361111            161.333333\n",
       "1           Cardiff        1  2022        49.722222            183.444444\n",
       "2           Cardiff        1  2023        66.500000            184.527778\n",
       "3           Cardiff        2  2021        62.722222            218.972222\n",
       "4           Cardiff        2  2022        64.611111            181.888889\n",
       "5           Cardiff        2  2023        75.111111            214.000000\n",
       "6           Cardiff        3  2021        67.222222            212.638889\n",
       "7           Cardiff        3  2022        59.666667            225.277778\n",
       "8           Cardiff        3  2023        72.055556            232.500000\n",
       "9           Cardiff        4  2021        57.444444            196.250000\n",
       "10          Cardiff        4  2022        59.277778            182.972222\n",
       "11          Cardiff        4  2023        66.277778            191.944444\n",
       "12        Edinburgh        1  2021        69.944444            223.083333\n",
       "13        Edinburgh        1  2022        78.638889            230.375000\n",
       "14        Edinburgh        1  2023        75.972222            244.458333\n",
       "15        Edinburgh        2  2021        82.611111            306.638889\n",
       "16        Edinburgh        2  2022        94.694444            329.166667\n",
       "17        Edinburgh        2  2023       103.805556            312.250000\n",
       "18        Edinburgh        3  2021        88.138889            245.847222\n",
       "19        Edinburgh        3  2022       102.111111            318.263889\n",
       "20        Edinburgh        3  2023       107.000000            354.541667\n",
       "21        Edinburgh        4  2021        90.055556            267.638889\n",
       "22        Edinburgh        4  2022        98.472222            303.638889\n",
       "23        Edinburgh        4  2023        94.083333            283.236111\n",
       "24           Oxford        1  2021       110.222222            320.555556\n",
       "25           Oxford        1  2022       104.888889            349.277778\n",
       "26           Oxford        1  2023       106.777778            333.055556\n",
       "27           Oxford        2  2021       121.361111            383.666667\n",
       "28           Oxford        2  2022       127.750000            426.555556\n",
       "29           Oxford        2  2023       133.303111            441.094111\n",
       "30           Oxford        3  2021       128.888889            408.277778\n",
       "31           Oxford        3  2022       131.277778            419.111111\n",
       "32           Oxford        3  2023       176.493000            548.224222\n",
       "33           Oxford        4  2021       112.611111            348.888889\n",
       "34           Oxford        4  2022       126.111111            428.055556\n",
       "35           Oxford        4  2023       154.742333            531.979444"
      ]
     },
     "metadata": {},
     "output_type": "display_data"
    }
   ],
   "source": [
    "# Group data by 'City bank branch', 'Quarter', and 'Year'\n",
    "# Compute the average (mean) for 'Customer Volume' and 'Deposit Value (£000)' in each group\n",
    "table2 = df.groupby(['City bank branch', 'Quarter', 'Year']).agg({\n",
    "    'Customer Volume': 'mean',  # Calculate the average number of customers per quarter\n",
    "    'Deposit Value (£000)': 'mean'  # Calculate the average deposit value per quarter\n",
    "}).reset_index()  # Reset index to maintain 'City bank branch', 'Quarter', and 'Year' as columns\n",
    "\n",
    "# Sort the table by 'City bank branch', 'Quarter', and 'Year' for better chronological readability\n",
    "table2 = table2.sort_values(['City bank branch', 'Quarter', 'Year'])\n",
    "\n",
    "# Print a title for clarity\n",
    "print(\"\\nTable 2: Benchmark Comparisons by City (Quarterly Averages)\")\n",
    "\n",
    "# Display the final grouped and sorted table\n",
    "display(table2)"
   ]
  },
  {
   "cell_type": "markdown",
   "metadata": {},
   "source": [
    "# **Explanation of Table 2:**\n",
    "# - This table provides average values for customer volume and deposit value per quarter for each city.\n",
    "# - It helps benchmark the performance of different branches across Cardiff, Oxford, and Edinburgh."
   ]
  },
  {
   "cell_type": "markdown",
   "metadata": {},
   "source": [
    "# **Table 3: Benchmark Comparisons of Service Categories (Quarterly Averages)**\n",
    "# This table examines the performance of each service category by calculating quarterly averages."
   ]
  },
  {
   "cell_type": "code",
   "execution_count": 19,
   "metadata": {},
   "outputs": [
    {
     "name": "stdout",
     "output_type": "stream",
     "text": [
      "\n",
      "Table 3: Benchmark Comparisons of Service Categories (Quarterly Averages)\n"
     ]
    },
    {
     "data": {
      "application/vnd.microsoft.datawrangler.viewer.v0+json": {
       "columns": [
        {
         "name": "index",
         "rawType": "int64",
         "type": "integer"
        },
        {
         "name": "Service category",
         "rawType": "object",
         "type": "string"
        },
        {
         "name": "Quarter",
         "rawType": "int32",
         "type": "integer"
        },
        {
         "name": "Year",
         "rawType": "int32",
         "type": "integer"
        },
        {
         "name": "Customer Volume",
         "rawType": "float64",
         "type": "float"
        },
        {
         "name": "Deposit Value (£000)",
         "rawType": "float64",
         "type": "float"
        }
       ],
       "conversionMethod": "pd.DataFrame",
       "ref": "48efd4d1-fa9e-479a-beaf-0b0e6ca1c4c7",
       "rows": [
        [
         "0",
         "Bonds savings accounts",
         "1",
         "2021",
         "87.22222222222223",
         "212.72222222222223"
        ],
        [
         "1",
         "Bonds savings accounts",
         "1",
         "2022",
         "97.38888888888889",
         "215.02777777777777"
        ],
        [
         "2",
         "Bonds savings accounts",
         "1",
         "2023",
         "91.5",
         "203.97222222222223"
        ],
        [
         "3",
         "Bonds savings accounts",
         "2",
         "2021",
         "94.88888888888889",
         "302.44444444444446"
        ],
        [
         "4",
         "Bonds savings accounts",
         "2",
         "2022",
         "108.5",
         "285.0"
        ],
        [
         "5",
         "Bonds savings accounts",
         "2",
         "2023",
         "136.94799999999998",
         "326.81444444444446"
        ],
        [
         "6",
         "Bonds savings accounts",
         "3",
         "2021",
         "97.27777777777777",
         "266.52777777777777"
        ],
        [
         "7",
         "Bonds savings accounts",
         "3",
         "2022",
         "117.38888888888889",
         "309.6388888888889"
        ],
        [
         "8",
         "Bonds savings accounts",
         "3",
         "2023",
         "143.53866666666656",
         "383.1799999999997"
        ],
        [
         "9",
         "Bonds savings accounts",
         "4",
         "2021",
         "96.11111111111111",
         "263.5"
        ],
        [
         "10",
         "Bonds savings accounts",
         "4",
         "2022",
         "102.05555555555556",
         "275.1666666666667"
        ],
        [
         "11",
         "Bonds savings accounts",
         "4",
         "2023",
         "119.07911111111093",
         "284.6422222222218"
        ],
        [
         "12",
         "Certificates of deposit",
         "1",
         "2021",
         "50.0",
         "210.0"
        ],
        [
         "13",
         "Certificates of deposit",
         "1",
         "2022",
         "34.05555555555556",
         "234.38888888888889"
        ],
        [
         "14",
         "Certificates of deposit",
         "1",
         "2023",
         "39.22222222222222",
         "231.0"
        ],
        [
         "15",
         "Certificates of deposit",
         "2",
         "2021",
         "46.22222222222222",
         "253.33333333333334"
        ],
        [
         "16",
         "Certificates of deposit",
         "2",
         "2022",
         "54.666666666666664",
         "247.66666666666666"
        ],
        [
         "17",
         "Certificates of deposit",
         "2",
         "2023",
         "59.999111111111105",
         "272.99555555555554"
        ],
        [
         "18",
         "Certificates of deposit",
         "3",
         "2021",
         "48.666666666666664",
         "236.0"
        ],
        [
         "19",
         "Certificates of deposit",
         "3",
         "2022",
         "44.888888888888886",
         "284.22222222222223"
        ],
        [
         "20",
         "Certificates of deposit",
         "3",
         "2023",
         "69.84422222222219",
         "303.7766666666664"
        ],
        [
         "21",
         "Certificates of deposit",
         "4",
         "2021",
         "48.05555555555556",
         "232.72222222222223"
        ],
        [
         "22",
         "Certificates of deposit",
         "4",
         "2022",
         "51.611111111111114",
         "208.16666666666666"
        ],
        [
         "23",
         "Certificates of deposit",
         "4",
         "2023",
         "63.488888888888795",
         "301.5555555555551"
        ],
        [
         "24",
         "Children’s savings accounts",
         "1",
         "2021",
         "31.72222222222222",
         "154.66666666666666"
        ],
        [
         "25",
         "Children’s savings accounts",
         "1",
         "2022",
         "35.55555555555556",
         "180.88888888888889"
        ],
        [
         "26",
         "Children’s savings accounts",
         "1",
         "2023",
         "30.666666666666668",
         "184.88888888888889"
        ],
        [
         "27",
         "Children’s savings accounts",
         "2",
         "2021",
         "37.55555555555556",
         "195.22222222222223"
        ],
        [
         "28",
         "Children’s savings accounts",
         "2",
         "2022",
         "42.72222222222222",
         "171.0"
        ],
        [
         "29",
         "Children’s savings accounts",
         "2",
         "2023",
         "29.906666666666663",
         "224.99555555555557"
        ],
        [
         "30",
         "Children’s savings accounts",
         "3",
         "2021",
         "38.111111111111114",
         "174.55555555555554"
        ],
        [
         "31",
         "Children’s savings accounts",
         "3",
         "2022",
         "42.833333333333336",
         "233.22222222222223"
        ],
        [
         "32",
         "Children’s savings accounts",
         "3",
         "2023",
         "42.6213333333333",
         "229.6168888888887"
        ],
        [
         "33",
         "Children’s savings accounts",
         "4",
         "2021",
         "30.61111111111111",
         "193.55555555555554"
        ],
        [
         "34",
         "Children’s savings accounts",
         "4",
         "2022",
         "42.166666666666664",
         "218.11111111111111"
        ],
        [
         "35",
         "Children’s savings accounts",
         "4",
         "2023",
         "49.26577777777772",
         "207.5946666666663"
        ],
        [
         "36",
         "Current accounts",
         "1",
         "2021",
         "138.33333333333334",
         "526.2222222222222"
        ],
        [
         "37",
         "Current accounts",
         "1",
         "2022",
         "134.72222222222223",
         "559.2222222222222"
        ],
        [
         "38",
         "Current accounts",
         "1",
         "2023",
         "155.72222222222223",
         "575.0"
        ],
        [
         "39",
         "Current accounts",
         "2",
         "2021",
         "173.16666666666666",
         "692.5555555555555"
        ],
        [
         "40",
         "Current accounts",
         "2",
         "2022",
         "179.5",
         "723.1111111111111"
        ],
        [
         "41",
         "Current accounts",
         "2",
         "2023",
         "174.35555555555555",
         "659.4222222222222"
        ],
        [
         "42",
         "Current accounts",
         "3",
         "2021",
         "175.05555555555554",
         "703.4444444444445"
        ],
        [
         "43",
         "Current accounts",
         "3",
         "2022",
         "171.22222222222223",
         "705.0"
        ],
        [
         "44",
         "Current accounts",
         "3",
         "2023",
         "221.275111111111",
         "859.2115555555552"
        ],
        [
         "45",
         "Current accounts",
         "4",
         "2021",
         "149.55555555555554",
         "577.7777777777778"
        ],
        [
         "46",
         "Current accounts",
         "4",
         "2022",
         "177.83333333333334",
         "699.1111111111111"
        ],
        [
         "47",
         "Current accounts",
         "4",
         "2023",
         "183.39066666666642",
         "736.3404444444435"
        ],
        [
         "48",
         "Individual savings account",
         "1",
         "2021",
         "100.5",
         "178.55555555555554"
        ],
        [
         "49",
         "Individual savings account",
         "1",
         "2022",
         "88.83333333333333",
         "193.11111111111111"
        ]
       ],
       "shape": {
        "columns": 5,
        "rows": 72
       }
      },
      "text/html": [
       "<div>\n",
       "<style scoped>\n",
       "    .dataframe tbody tr th:only-of-type {\n",
       "        vertical-align: middle;\n",
       "    }\n",
       "\n",
       "    .dataframe tbody tr th {\n",
       "        vertical-align: top;\n",
       "    }\n",
       "\n",
       "    .dataframe thead th {\n",
       "        text-align: right;\n",
       "    }\n",
       "</style>\n",
       "<table border=\"1\" class=\"dataframe\">\n",
       "  <thead>\n",
       "    <tr style=\"text-align: right;\">\n",
       "      <th></th>\n",
       "      <th>Service category</th>\n",
       "      <th>Quarter</th>\n",
       "      <th>Year</th>\n",
       "      <th>Customer Volume</th>\n",
       "      <th>Deposit Value (£000)</th>\n",
       "    </tr>\n",
       "  </thead>\n",
       "  <tbody>\n",
       "    <tr>\n",
       "      <th>0</th>\n",
       "      <td>Bonds savings accounts</td>\n",
       "      <td>1</td>\n",
       "      <td>2021</td>\n",
       "      <td>87.222222</td>\n",
       "      <td>212.722222</td>\n",
       "    </tr>\n",
       "    <tr>\n",
       "      <th>1</th>\n",
       "      <td>Bonds savings accounts</td>\n",
       "      <td>1</td>\n",
       "      <td>2022</td>\n",
       "      <td>97.388889</td>\n",
       "      <td>215.027778</td>\n",
       "    </tr>\n",
       "    <tr>\n",
       "      <th>2</th>\n",
       "      <td>Bonds savings accounts</td>\n",
       "      <td>1</td>\n",
       "      <td>2023</td>\n",
       "      <td>91.500000</td>\n",
       "      <td>203.972222</td>\n",
       "    </tr>\n",
       "    <tr>\n",
       "      <th>3</th>\n",
       "      <td>Bonds savings accounts</td>\n",
       "      <td>2</td>\n",
       "      <td>2021</td>\n",
       "      <td>94.888889</td>\n",
       "      <td>302.444444</td>\n",
       "    </tr>\n",
       "    <tr>\n",
       "      <th>4</th>\n",
       "      <td>Bonds savings accounts</td>\n",
       "      <td>2</td>\n",
       "      <td>2022</td>\n",
       "      <td>108.500000</td>\n",
       "      <td>285.000000</td>\n",
       "    </tr>\n",
       "    <tr>\n",
       "      <th>...</th>\n",
       "      <td>...</td>\n",
       "      <td>...</td>\n",
       "      <td>...</td>\n",
       "      <td>...</td>\n",
       "      <td>...</td>\n",
       "    </tr>\n",
       "    <tr>\n",
       "      <th>67</th>\n",
       "      <td>Money savings accounts</td>\n",
       "      <td>3</td>\n",
       "      <td>2022</td>\n",
       "      <td>98.222222</td>\n",
       "      <td>177.444444</td>\n",
       "    </tr>\n",
       "    <tr>\n",
       "      <th>68</th>\n",
       "      <td>Money savings accounts</td>\n",
       "      <td>3</td>\n",
       "      <td>2023</td>\n",
       "      <td>83.943556</td>\n",
       "      <td>216.220444</td>\n",
       "    </tr>\n",
       "    <tr>\n",
       "      <th>69</th>\n",
       "      <td>Money savings accounts</td>\n",
       "      <td>4</td>\n",
       "      <td>2021</td>\n",
       "      <td>73.888889</td>\n",
       "      <td>152.777778</td>\n",
       "    </tr>\n",
       "    <tr>\n",
       "      <th>70</th>\n",
       "      <td>Money savings accounts</td>\n",
       "      <td>4</td>\n",
       "      <td>2022</td>\n",
       "      <td>81.888889</td>\n",
       "      <td>193.444444</td>\n",
       "    </tr>\n",
       "    <tr>\n",
       "      <th>71</th>\n",
       "      <td>Money savings accounts</td>\n",
       "      <td>4</td>\n",
       "      <td>2023</td>\n",
       "      <td>91.489778</td>\n",
       "      <td>201.312889</td>\n",
       "    </tr>\n",
       "  </tbody>\n",
       "</table>\n",
       "<p>72 rows × 5 columns</p>\n",
       "</div>"
      ],
      "text/plain": [
       "          Service category  Quarter  Year  Customer Volume  \\\n",
       "0   Bonds savings accounts        1  2021        87.222222   \n",
       "1   Bonds savings accounts        1  2022        97.388889   \n",
       "2   Bonds savings accounts        1  2023        91.500000   \n",
       "3   Bonds savings accounts        2  2021        94.888889   \n",
       "4   Bonds savings accounts        2  2022       108.500000   \n",
       "..                     ...      ...   ...              ...   \n",
       "67  Money savings accounts        3  2022        98.222222   \n",
       "68  Money savings accounts        3  2023        83.943556   \n",
       "69  Money savings accounts        4  2021        73.888889   \n",
       "70  Money savings accounts        4  2022        81.888889   \n",
       "71  Money savings accounts        4  2023        91.489778   \n",
       "\n",
       "    Deposit Value (£000)  \n",
       "0             212.722222  \n",
       "1             215.027778  \n",
       "2             203.972222  \n",
       "3             302.444444  \n",
       "4             285.000000  \n",
       "..                   ...  \n",
       "67            177.444444  \n",
       "68            216.220444  \n",
       "69            152.777778  \n",
       "70            193.444444  \n",
       "71            201.312889  \n",
       "\n",
       "[72 rows x 5 columns]"
      ]
     },
     "metadata": {},
     "output_type": "display_data"
    }
   ],
   "source": [
    "# Group data by 'Service category', 'Quarter', and 'Year'\n",
    "# Compute the average (mean) for 'Customer Volume' and 'Deposit Value (£000)' in each group\n",
    "table3 = df.groupby(['Service category', 'Quarter', 'Year']).agg({\n",
    "    'Customer Volume': 'mean',  # Calculate the average number of customers per quarter for each service category\n",
    "    'Deposit Value (£000)': 'mean'  # Calculate the average deposit value per quarter for each service category\n",
    "}).reset_index()  # Reset index to maintain 'Service category', 'Quarter', and 'Year' as columns\n",
    "\n",
    "# Sort the table by 'Service category', 'Quarter', and 'Year' for better chronological readability\n",
    "table3 = table3.sort_values(['Service category', 'Quarter', 'Year'])\n",
    "\n",
    "# Print a title for clarity\n",
    "print(\"\\nTable 3: Benchmark Comparisons of Service Categories (Quarterly Averages)\")\n",
    "\n",
    "# Display the final grouped and sorted table\n",
    "display(table3)"
   ]
  },
  {
   "cell_type": "markdown",
   "metadata": {},
   "source": [
    "# **Explanation of Table 3:**\n",
    "# - The table shows quarterly average performance (customer volume and deposit value) for each service category.\n",
    "# - This analysis helps identify which services drive the highest customer engagement and deposits."
   ]
  },
  {
   "cell_type": "markdown",
   "metadata": {},
   "source": [
    "# **Exploratory Data Analysis (Summary Calculations)**\n",
    "# Provide summary statistics table and seperate top & bottom performing list of service category."
   ]
  },
  {
   "cell_type": "code",
   "execution_count": null,
   "metadata": {},
   "outputs": [
    {
     "name": "stdout",
     "output_type": "stream",
     "text": [
      "\n",
      "Service Category Performance (sorted by AvgDepositValue):\n"
     ]
    },
    {
     "data": {
      "application/vnd.microsoft.datawrangler.viewer.v0+json": {
       "columns": [
        {
         "name": "index",
         "rawType": "int64",
         "type": "integer"
        },
        {
         "name": "Service category",
         "rawType": "object",
         "type": "string"
        },
        {
         "name": "AvgCustomerVolume",
         "rawType": "float64",
         "type": "float"
        },
        {
         "name": "TotalCustomerVolume",
         "rawType": "float64",
         "type": "float"
        },
        {
         "name": "StdCustomerVolume",
         "rawType": "float64",
         "type": "float"
        },
        {
         "name": "AvgDepositValue",
         "rawType": "float64",
         "type": "float"
        },
        {
         "name": "TotalDepositValue",
         "rawType": "float64",
         "type": "float"
        },
        {
         "name": "StdDepositValue",
         "rawType": "float64",
         "type": "float"
        }
       ],
       "conversionMethod": "pd.DataFrame",
       "ref": "ec33e001-0cef-406e-b43c-bc9b80499765",
       "rows": [
        [
         "3",
         "Current accounts",
         "169.511037037037",
         "18307.191999999995",
         "60.81349640874592",
         "668.0348888888888",
         "72147.76799999998",
         "239.4835787876893"
        ],
        [
         "0",
         "Bonds savings accounts",
         "107.65825925925922",
         "11627.091999999997",
         "44.87377861912589",
         "277.3863888888888",
         "29957.729999999992",
         "137.13501966193428"
        ],
        [
         "1",
         "Certificates of deposit",
         "50.89342592592592",
         "5496.489999999999",
         "24.95681205086347",
         "251.31898148148142",
         "27142.449999999993",
         "104.55336780569843"
        ],
        [
         "4",
         "Individual savings account",
         "114.94316666666664",
         "12413.861999999997",
         "41.79494030471586",
         "227.69188888888883",
         "24590.723999999995",
         "105.48962165715966"
        ],
        [
         "2",
         "Children’s savings accounts",
         "37.81151851851851",
         "4083.6439999999993",
         "18.924484594016985",
         "197.3598518518518",
         "21314.863999999994",
         "89.458972177227"
        ],
        [
         "5",
         "Money savings accounts",
         "82.83714814814813",
         "8946.411999999998",
         "35.1547719005502",
         "168.81318518518515",
         "18231.823999999997",
         "80.06840500567182"
        ]
       ],
       "shape": {
        "columns": 7,
        "rows": 6
       }
      },
      "text/html": [
       "<div>\n",
       "<style scoped>\n",
       "    .dataframe tbody tr th:only-of-type {\n",
       "        vertical-align: middle;\n",
       "    }\n",
       "\n",
       "    .dataframe tbody tr th {\n",
       "        vertical-align: top;\n",
       "    }\n",
       "\n",
       "    .dataframe thead th {\n",
       "        text-align: right;\n",
       "    }\n",
       "</style>\n",
       "<table border=\"1\" class=\"dataframe\">\n",
       "  <thead>\n",
       "    <tr style=\"text-align: right;\">\n",
       "      <th></th>\n",
       "      <th>Service category</th>\n",
       "      <th>AvgCustomerVolume</th>\n",
       "      <th>TotalCustomerVolume</th>\n",
       "      <th>StdCustomerVolume</th>\n",
       "      <th>AvgDepositValue</th>\n",
       "      <th>TotalDepositValue</th>\n",
       "      <th>StdDepositValue</th>\n",
       "    </tr>\n",
       "  </thead>\n",
       "  <tbody>\n",
       "    <tr>\n",
       "      <th>3</th>\n",
       "      <td>Current accounts</td>\n",
       "      <td>169.511037</td>\n",
       "      <td>18307.192</td>\n",
       "      <td>60.813496</td>\n",
       "      <td>668.034889</td>\n",
       "      <td>72147.768</td>\n",
       "      <td>239.483579</td>\n",
       "    </tr>\n",
       "    <tr>\n",
       "      <th>0</th>\n",
       "      <td>Bonds savings accounts</td>\n",
       "      <td>107.658259</td>\n",
       "      <td>11627.092</td>\n",
       "      <td>44.873779</td>\n",
       "      <td>277.386389</td>\n",
       "      <td>29957.730</td>\n",
       "      <td>137.135020</td>\n",
       "    </tr>\n",
       "    <tr>\n",
       "      <th>1</th>\n",
       "      <td>Certificates of deposit</td>\n",
       "      <td>50.893426</td>\n",
       "      <td>5496.490</td>\n",
       "      <td>24.956812</td>\n",
       "      <td>251.318981</td>\n",
       "      <td>27142.450</td>\n",
       "      <td>104.553368</td>\n",
       "    </tr>\n",
       "    <tr>\n",
       "      <th>4</th>\n",
       "      <td>Individual savings account</td>\n",
       "      <td>114.943167</td>\n",
       "      <td>12413.862</td>\n",
       "      <td>41.794940</td>\n",
       "      <td>227.691889</td>\n",
       "      <td>24590.724</td>\n",
       "      <td>105.489622</td>\n",
       "    </tr>\n",
       "    <tr>\n",
       "      <th>2</th>\n",
       "      <td>Children’s savings accounts</td>\n",
       "      <td>37.811519</td>\n",
       "      <td>4083.644</td>\n",
       "      <td>18.924485</td>\n",
       "      <td>197.359852</td>\n",
       "      <td>21314.864</td>\n",
       "      <td>89.458972</td>\n",
       "    </tr>\n",
       "    <tr>\n",
       "      <th>5</th>\n",
       "      <td>Money savings accounts</td>\n",
       "      <td>82.837148</td>\n",
       "      <td>8946.412</td>\n",
       "      <td>35.154772</td>\n",
       "      <td>168.813185</td>\n",
       "      <td>18231.824</td>\n",
       "      <td>80.068405</td>\n",
       "    </tr>\n",
       "  </tbody>\n",
       "</table>\n",
       "</div>"
      ],
      "text/plain": [
       "              Service category  AvgCustomerVolume  TotalCustomerVolume  \\\n",
       "3             Current accounts         169.511037            18307.192   \n",
       "0       Bonds savings accounts         107.658259            11627.092   \n",
       "1      Certificates of deposit          50.893426             5496.490   \n",
       "4   Individual savings account         114.943167            12413.862   \n",
       "2  Children’s savings accounts          37.811519             4083.644   \n",
       "5       Money savings accounts          82.837148             8946.412   \n",
       "\n",
       "   StdCustomerVolume  AvgDepositValue  TotalDepositValue  StdDepositValue  \n",
       "3          60.813496       668.034889          72147.768       239.483579  \n",
       "0          44.873779       277.386389          29957.730       137.135020  \n",
       "1          24.956812       251.318981          27142.450       104.553368  \n",
       "4          41.794940       227.691889          24590.724       105.489622  \n",
       "2          18.924485       197.359852          21314.864        89.458972  \n",
       "5          35.154772       168.813185          18231.824        80.068405  "
      ]
     },
     "metadata": {},
     "output_type": "display_data"
    },
    {
     "name": "stdout",
     "output_type": "stream",
     "text": [
      "\n",
      "📈 Top-Performing Service Category by Customer Volume:\n"
     ]
    },
    {
     "data": {
      "text/plain": [
       "Service category       Current accounts\n",
       "AvgCustomerVolume            169.511037\n",
       "TotalCustomerVolume           18307.192\n",
       "StdCustomerVolume             60.813496\n",
       "AvgDepositValue              668.034889\n",
       "TotalDepositValue             72147.768\n",
       "StdDepositValue              239.483579\n",
       "Name: 3, dtype: object"
      ]
     },
     "metadata": {},
     "output_type": "display_data"
    },
    {
     "name": "stdout",
     "output_type": "stream",
     "text": [
      "\n",
      "📉 Bottom-Performing Service Category by Customer Volume:\n"
     ]
    },
    {
     "data": {
      "text/plain": [
       "Service category       Children’s savings accounts\n",
       "AvgCustomerVolume                        37.811519\n",
       "TotalCustomerVolume                       4083.644\n",
       "StdCustomerVolume                        18.924485\n",
       "AvgDepositValue                         197.359852\n",
       "TotalDepositValue                        21314.864\n",
       "StdDepositValue                          89.458972\n",
       "Name: 2, dtype: object"
      ]
     },
     "metadata": {},
     "output_type": "display_data"
    },
    {
     "name": "stdout",
     "output_type": "stream",
     "text": [
      "\n",
      "📈 Top-Performing Service Category by Total Deposit Value:\n"
     ]
    },
    {
     "data": {
      "text/plain": [
       "Service category       Current accounts\n",
       "AvgCustomerVolume            169.511037\n",
       "TotalCustomerVolume           18307.192\n",
       "StdCustomerVolume             60.813496\n",
       "AvgDepositValue              668.034889\n",
       "TotalDepositValue             72147.768\n",
       "StdDepositValue              239.483579\n",
       "Name: 3, dtype: object"
      ]
     },
     "metadata": {},
     "output_type": "display_data"
    },
    {
     "name": "stdout",
     "output_type": "stream",
     "text": [
      "\n",
      "📉 Bottom-Performing Service Category by Total Deposit Value:\n"
     ]
    },
    {
     "data": {
      "text/plain": [
       "Service category       Money savings accounts\n",
       "AvgCustomerVolume                   82.837148\n",
       "TotalCustomerVolume                  8946.412\n",
       "StdCustomerVolume                   35.154772\n",
       "AvgDepositValue                    168.813185\n",
       "TotalDepositValue                   18231.824\n",
       "StdDepositValue                     80.068405\n",
       "Name: 5, dtype: object"
      ]
     },
     "metadata": {},
     "output_type": "display_data"
    }
   ],
   "source": [
    "# Group by 'Service category' and calculate summary statistics\n",
    "service_summary = df.groupby('Service category').agg({\n",
    "    'Customer Volume': ['mean', 'sum', 'std'],  # Mean, Sum, Std for Customer Volume\n",
    "    'Deposit Value (£000)': ['mean', 'sum', 'std']  # Mean, Sum, Std for Deposit Value\n",
    "}).reset_index()\n",
    "\n",
    "# Flatten MultiIndex columns for easier readability\n",
    "service_summary.columns = ['Service category', 'AvgCustomerVolume', 'TotalCustomerVolume', 'StdCustomerVolume',\n",
    "                           'AvgDepositValue', 'TotalDepositValue', 'StdDepositValue']\n",
    "\n",
    "# Sort the summary by Average Deposit Value in descending order\n",
    "service_summary = service_summary.sort_values('AvgDepositValue', ascending=False)\n",
    "\n",
    "# Display summary\n",
    "print(\"\\nService Category Performance (sorted by AvgDepositValue):\")\n",
    "display(service_summary)\n",
    "\n",
    "# Identify the top and bottom performing service categories\n",
    "top_service_by_customers = service_summary.loc[service_summary['TotalCustomerVolume'].idxmax()]\n",
    "bottom_service_by_customers = service_summary.loc[service_summary['TotalCustomerVolume'].idxmin()]\n",
    "\n",
    "top_service_by_deposit = service_summary.loc[service_summary['TotalDepositValue'].idxmax()]\n",
    "bottom_service_by_deposit = service_summary.loc[service_summary['TotalDepositValue'].idxmin()]\n",
    "\n",
    "# Display top and bottom performers\n",
    "print(\"\\n📈 Top-Performing Service Category by Customer Volume:\")\n",
    "display(top_service_by_customers)\n",
    "\n",
    "print(\"\\n📉 Bottom-Performing Service Category by Customer Volume:\")\n",
    "display(bottom_service_by_customers)\n",
    "\n",
    "print(\"\\n📈 Top-Performing Service Category by Total Deposit Value:\")\n",
    "display(top_service_by_deposit)\n",
    "\n",
    "print(\"\\n📉 Bottom-Performing Service Category by Total Deposit Value:\")\n",
    "display(bottom_service_by_deposit)\n"
   ]
  },
  {
   "cell_type": "markdown",
   "metadata": {},
   "source": [
    "# **Section 3: Data charting and commentary**\n",
    "# Import Visualization Libraries"
   ]
  },
  {
   "cell_type": "code",
   "execution_count": 21,
   "metadata": {},
   "outputs": [],
   "source": [
    "import matplotlib.pyplot as plt # For data visualization\n",
    "import seaborn as sns# For statistical data visualization"
   ]
  },
  {
   "cell_type": "markdown",
   "metadata": {},
   "source": [
    "## **Deposit Value Trends Across Cities Over Time** ##"
   ]
  },
  {
   "cell_type": "code",
   "execution_count": 22,
   "metadata": {},
   "outputs": [
    {
     "data": {
      "image/png": "[encoded data removed]",
      "text/plain": [
       "<Figure size 1400x700 with 1 Axes>"
      ]
     },
     "metadata": {},
     "output_type": "display_data"
    }
   ],
   "source": [
    "# Set figure size for better visibility\n",
    "plt.figure(figsize=(14, 7))\n",
    "\n",
    "# Create a line plot showing deposit value trends over time for each city branch\n",
    "sns.lineplot(data=df, x='Date', y='Deposit Value (£000)', hue='City bank branch', marker='o')\n",
    "\n",
    "# Set the title of the chart\n",
    "plt.title(\"Deposit Value Trends Across Cities Over Time\")\n",
    "\n",
    "# Label the x-axis as 'Year'\n",
    "plt.xlabel(\"Year\")\n",
    "\n",
    "# Label the y-axis as 'Deposit Value (£000)'\n",
    "plt.ylabel(\"Deposit Value (£000)\")\n",
    "\n",
    "# Rotate x-axis labels for better readability\n",
    "plt.xticks(rotation=0)\n",
    "\n",
    "# Add a legend with the title 'City' to differentiate city bank branches\n",
    "plt.legend(title=\"City\")\n",
    "\n",
    "# Add a grid to the background for better visualization\n",
    "plt.grid(True)\n",
    "\n",
    "# Display the plot\n",
    "plt.show()"
   ]
  },
  {
   "cell_type": "markdown",
   "metadata": {},
   "source": [
    "##  **Customer Volume & Deposit Value by Service Category (Dual-Axis Bar Chart)** ##"
   ]
  },
  {
   "cell_type": "code",
   "execution_count": 23,
   "metadata": {},
   "outputs": [
    {
     "data": {
      "image/png": "[encoded data removed]",
      "text/plain": [
       "<Figure size 1400x700 with 2 Axes>"
      ]
     },
     "metadata": {},
     "output_type": "display_data"
    }
   ],
   "source": [
    "# Create a figure and axis\n",
    "fig, ax1 = plt.subplots(figsize=(14, 7))\n",
    "\n",
    "# Define colors for better contrast\n",
    "customer_color = \"#0361fc\"  # Blue\n",
    "deposit_color = \"#dd6d52\"  # Orange\n",
    "\n",
    "# Plot Customer Volume (without error bars)\n",
    "sns.barplot(data=df, x='Service category', y='Customer Volume', ax=ax1, \n",
    "            color=customer_color, alpha=0.8, errorbar=None)  # Fixed warning\n",
    "\n",
    "# Create secondary Y-axis for Deposit Value\n",
    "ax2 = ax1.twinx()\n",
    "\n",
    "# Plot Deposit Value (without error bars)\n",
    "sns.barplot(data=df, x='Service category', y='Deposit Value (£000)', ax=ax2, \n",
    "            color=deposit_color, alpha=0.6, errorbar=None)  # Fixed warning\n",
    "\n",
    "# Improve labels and title\n",
    "ax1.set_title(\"Customer Volume & Deposit Value by Service Category (3-Year Period)\", \n",
    "              fontsize=14, fontweight='bold')\n",
    "ax1.set_xlabel(\"Service Category\", fontsize=12, fontweight='bold')\n",
    "ax1.set_ylabel(\"Customer Volume\", fontsize=12, fontweight='bold', color=customer_color)\n",
    "ax2.set_ylabel(\"Deposit Value (£000)\", fontsize=12, fontweight='bold', color=deposit_color)\n",
    "\n",
    "# Rotate x-axis labels for readability\n",
    "plt.xticks(rotation=45, ha='right', fontsize=11)\n",
    "\n",
    "# Add grid and background color for clarity\n",
    "ax1.grid(axis='y', linestyle='--', alpha=0.7)\n",
    "ax1.set_facecolor(\"#F7F7F7\")\n",
    "ax2.set_facecolor(\"#F7F7F7\")\n",
    "\n",
    "# Create a single legend\n",
    "custom_legend = [\n",
    "    plt.Rectangle((0, 0), 1, 1, fc=customer_color, alpha=0.8, label=\"Customer Volume\"),\n",
    "    plt.Rectangle((0, 0), 1, 1, fc=deposit_color, alpha=0.6, label=\"Deposit Value\")\n",
    "]\n",
    "ax1.legend(handles=custom_legend, loc=\"upper right\", fontsize=12)\n",
    "\n",
    "# Show the plot\n",
    "plt.tight_layout()\n",
    "plt.show()"
   ]
  },
  {
   "cell_type": "markdown",
   "metadata": {},
   "source": [
    "## **Oxford Branch Expansion Analysis in 2023** ##"
   ]
  },
  {
   "cell_type": "code",
   "execution_count": 24,
   "metadata": {},
   "outputs": [
    {
     "data": {
      "image/png": "[encoded data removed]",
      "text/plain": [
       "<Figure size 1400x700 with 1 Axes>"
      ]
     },
     "metadata": {},
     "output_type": "display_data"
    }
   ],
   "source": [
    "oxford_df = df[df['City bank branch'] == \"Oxford\"]\n",
    "# Create the plot\n",
    "plt.figure(figsize=(14, 7))\n",
    "sns.lineplot(data=oxford_df, x='Date', y='Deposit Value (£000)', hue='Year', \n",
    "             marker='o', palette=\"tab10\", linewidth=2)\n",
    "\n",
    "# Improve labels and title\n",
    "plt.title(\"Impact of Oxford Branch Expansion (Deposit Value Over Time)\", \n",
    "          fontsize=14, fontweight='bold')\n",
    "plt.xlabel(\"Year-Month\", fontsize=12, fontweight='bold')\n",
    "plt.ylabel(\"Deposit Value (£000)\", fontsize=12, fontweight='bold')\n",
    "\n",
    "# Customize legend\n",
    "plt.legend(title=\"Year\", fontsize=11)\n",
    "\n",
    "# Improve grid and background\n",
    "plt.grid(True, linestyle='--', alpha=0.6)\n",
    "plt.xticks(rotation=0)\n",
    "\n",
    "# Show the plot\n",
    "plt.show()"
   ]
  }
 ],
 "metadata": {
  "kernelspec": {
   "display_name": "Python 3",
   "language": "python",
   "name": "python3"
  },
  "language_info": {
   "codemirror_mode": {
    "name": "ipython",
    "version": 3
   },
   "file_extension": ".py",
   "mimetype": "text/x-python",
   "name": "python",
   "nbconvert_exporter": "python",
   "pygments_lexer": "ipython3",
   "version": "3.13.2"
  }
 },
 "nbformat": 4,
 "nbformat_minor": 2
}
